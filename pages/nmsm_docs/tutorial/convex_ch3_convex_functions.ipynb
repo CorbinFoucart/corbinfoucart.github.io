{
 "cells": [
  {
   "cell_type": "markdown",
   "metadata": {},
   "source": [
    "# Convex functions"
   ]
  },
  {
   "cell_type": "code",
   "execution_count": 1,
   "metadata": {},
   "outputs": [],
   "source": [
    "import numpy as np\n",
    "import matplotlib.pyplot as plt"
   ]
  },
  {
   "cell_type": "markdown",
   "metadata": {},
   "source": [
    "## Basic properties and definitions\n",
    "\n",
    "A function $f: \\mathbf{R}^{n}\\to \\mathbf{R}^{}$ is convex if $\\mathbf{dom} f$ is a convex set, and \n",
    "\n",
    "\\begin{equation}\n",
    "f(\\theta x + (1-\\theta) y) \\leq \\theta f(x) + (1-\\theta) f(y)\n",
    "\\label{eq:convexity_def}\n",
    "\\end{equation}\n",
    "\n",
    "for all $x,y \\in \\mathbf{dom} f$, $0\\leq \\theta\\leq 1$.\n",
    "\n",
    "The mental picture for this is:\n",
    "\n",
    "![cvx fn mental](convex_img/cvx_fn_mental_img.jpg)\n",
    "\n",
    "A function doesn't have to be bowl-shaped to be convex, but it must have positive curvature.\n",
    "\n",
    "$f$ is *concave* if $-f$ if convex."
   ]
  },
  {
   "cell_type": "markdown",
   "metadata": {},
   "source": [
    "**Examples on** $\\mathbf{R}$\n",
    "\n",
    ">\"The question as to whether or not a function on $\\mathbf{R}$ is convex is a non-issue. Here's how you check: you draw it and you use your eyeballs to see if it curves up. There's really no issue there.\" - Stephen Boyd"
   ]
  },
  {
   "cell_type": "markdown",
   "metadata": {},
   "source": [
    "**Examples on** $\\mathbf{R}^n$ **and** $\\mathbf{R}^{n\\times m}$\n",
    "\n",
    "*Norms*\n",
    "\n",
    "Every norm on $\\mathbf{R}^n$ is convex."
   ]
  },
  {
   "cell_type": "markdown",
   "metadata": {},
   "source": [
    "**Restriction of a convex function to a line**\n",
    "\n",
    "A function $f:\\mathbf{R}^{n}\\to \\mathbf{R}^{}$ is convex iff and only if the\n",
    "function $g:\\mathbf{R}^{}\\to \\mathbf{R}^{}$,\n",
    "\n",
    "\\begin{equation}\n",
    "g(t) = f(x + tv),\\qquad \\mathbf{dom}\\,g = \\left\\{t\\mid x + tv \\in\\mathbf{dom} f\\right\\}\n",
    "\\end{equation}\n",
    "\n",
    "is convex (in $t$) for any $x\\in \\mathbf{dom} f$, $v\\in \\mathbf{R}^{n}$.\n",
    "\n",
    "This means we can check the convexity of $f$ by checking the convexity of one variable at a time. The only hitch is that there are infinite such lines. But if we can show that the function is convex on an *arbitrary* line, then we're done.\n",
    "\n"
   ]
  },
  {
   "cell_type": "markdown",
   "metadata": {},
   "source": [
    "### Extended-value extensions\n",
    "\n",
    "The extended-value extension $\\tilde{f}$ of $f$ is \n",
    "\n",
    "\\begin{equation}\n",
    "\\tilde{f}(x) = \n",
    "\\begin{cases}\n",
    "f(x) & x \\in \\mathbf{dom} f\\\\\n",
    "\\infty & x \\notin \\mathbf{dom} f\n",
    "\\end{cases}\n",
    "\\end{equation}\n",
    "\n",
    "For accounting purposes, it's often useful to work with the extended-value\n",
    "extension of a function rather than the function itself. $\\tilde{f}$ is defined on the whole space, so we don't need to worry about domain restriction.\n",
    "\n",
    "![extended value function](convex_img/extended_value_function.jpg)\n",
    "\n",
    "This can also simplify notation: for example, instead of writing out the full conditions for convexity in equation (\\ref{eq:convexity_def}), where we demand that $\\mathbf{dom} f$ is a convex set and $x,y\\in\\mathbf{dom} f$, we can instead write \n",
    "\n",
    "\\begin{equation}\n",
    "0\\leq\\theta\\leq1 \\implies \\tilde{f}(\\theta x + (1-\\theta)y) \\leq \\theta\n",
    "\\tilde{f}(x) +(1-\\theta)\\tilde{f}(y)\n",
    "\\end{equation}\n",
    "\n",
    "for *any* $x,y$.\n",
    "\n",
    "Similarly, to express the pointwise sum $f$ of two functions $f_1$ and $f_2$, we\n",
    "would have to write that $f = f_1 + f_2$ is the pointwise sum function **with\n",
    "the domain** $\\mathbf{dom}f = \\mathbf{dom} f_1 \\cap \\mathbf{dom} f_2$. Using\n",
    "the extended-value extension, we can simply say that for any $x$, \n",
    "\n",
    "\\begin{equation}\n",
    "\\tilde{f}(x) = \\tilde{f}_1(x) + \\tilde{f}_2(x).\n",
    "\\end{equation}\n"
   ]
  },
  {
   "cell_type": "markdown",
   "metadata": {},
   "source": [
    "### First-order conditions"
   ]
  },
  {
   "cell_type": "markdown",
   "metadata": {},
   "source": [
    "There's this idea that if $f$ differentiable (i.e., its gradient $\\nabla f$ exists at each point in $\\mathbf{dom} f$, which is open), then $f$ is convex if and and only if\n",
    "\n",
    "- its domain is convex\n",
    "- $f(y) \\geq f(x) + [\\nabla f(x)]^T(y-x)$ for all $x,y\\in\\text{dom}(f)$ \n",
    " \n",
    "The first point is the interpretation of $f(x) + [\\nabla f(x)]^T(y-x)$. To understand this, fix $x$,"
   ]
  },
  {
   "cell_type": "code",
   "execution_count": 2,
   "metadata": {},
   "outputs": [
    {
     "data": {
      "image/png": "[encoded data removed]",
      "text/plain": [
       "<Figure size 432x288 with 1 Axes>"
      ]
     },
     "metadata": {
      "needs_background": "light"
     },
     "output_type": "display_data"
    }
   ],
   "source": [
    "def f(x): return x**2\n",
    "def grad_f(x): return 2*x\n",
    "\n",
    "x0 = -0.25\n",
    "x = np.linspace(-1, 1, 50)\n",
    "y = np.linspace(-1, 1, 10)\n",
    "\n",
    "plt.plot(x, f(x),label=r'$f(x)$')\n",
    "plt.scatter(x0, f(x0), c='k', label=r'$x_0$')\n",
    "plt.plot(y, f(x0) + grad_f(x0)*(y-x0), '-o',\n",
    "        label=r'$f(x_0) + [\\nabla f(x_0)]^T(y-x_0)$')\n",
    "plt.scatter(y, f(y), label=r'$f(y)$', c='orange')\n",
    "plt.legend()\n",
    "plt.show()"
   ]
  },
  {
   "cell_type": "markdown",
   "metadata": {},
   "source": [
    "we see that \n",
    "- the inequality is respected\n",
    "- that $f(x) + [\\nabla f(x)]^T(y-x)$ is an affine function in $y$ for any given $x$, which specifies the linear Taylor approximation to the function at the point $x$.\n",
    "\n",
    "In higher dimensions, this says that the plane tangent to the function lies below the function."
   ]
  },
  {
   "cell_type": "markdown",
   "metadata": {},
   "source": [
    "### Second-order conditions\n",
    "\n",
    "We now assume that $f$ is twice differentiable, i.e., its *Hessian* or second derivative matrix $\\nabla^2 f$ exists on each point in $\\mathbf{dom} f$, which is open.\n",
    "\n",
    "If these conditions are met, then $f$ is convex if and only if\n",
    "\n",
    "- $\\mathbf{dom} f$ is convex\n",
    "- $\\nabla^2 f \\succeq 0$ for all $x\\in \\mathbf{dom} f$.\n",
    "\n",
    "Where the Hessian matrix $H$ is defined as \n",
    "\n",
    "\\begin{equation}\n",
    "H_{ij}=\\nabla^2 f(x)_{ij} = \\frac{\\partial^2 f(x) }{\\partial x_i \\partial x_j},\n",
    "\\qquad i,j = 1,\\ldots,n\n",
    "\\end{equation}\n",
    "\n",
    "not to be confused with the Laplacian operator $\\nabla \\cdot \\left( \\nabla f(x) \\right)$.\n",
    "\n",
    "**Remark**\n",
    "\n",
    "The condition that $\\mathbf{dom} f$ be convex cannot be dropped from the\n",
    "first or second order characterizations of convexity. For example, consider the\n",
    "function $f(x) = 1/x^2$ with $\\mathbf{dom} f = \\left\\{x \\in \\mathbf{R}^{}\\mid x\\neq 0\\right\\}$ satisfies $f^{\\prime\\prime}(x) > 0$ for all $x\\in \\mathbf{dom} f$, but is not a convex function.\n",
    "\n",
    "![cvs dom remark](convex_img/convex_domain_remark.jpg)\n",
    "\n",
    "Generally, checking convexity this way is to be avoided, as it can be quite complicated, especially for vector-valued function (see exercises).\n",
    "\n",
    "**Remark** \n",
    "\n",
    "If a function is convex in each component, the diagonals of the Hessian will be positive. However, this says nothing about the convexity of the function in general (which has to do with the off diagonals). We have to check convexity over *every line*, not just in each component.\n"
   ]
  },
  {
   "cell_type": "markdown",
   "metadata": {},
   "source": [
    "### Useful examples to remember"
   ]
  },
  {
   "cell_type": "markdown",
   "metadata": {},
   "source": [
    "### Sublevel sets\n",
    "\n",
    "The $\\alpha$-sublevel set of $f:\\mathbf{R}^{n}\\to\\mathbf{R}^{}$:\n",
    "\n",
    "\\begin{equation}\n",
    "C_\\alpha = \\left\\{x \\in \\mathbf{dom} f \\mid f(x) \\leq \\alpha\\right\\}.\n",
    "\\end{equation}\n",
    "\n",
    "Note that sublevel sets are subsets of the *domain*, not the function.\n",
    "![sublevel dom](convex_img/sublevel_domain.jpg)\n",
    "\n",
    "Sublevel sets of a convex function are convex, for any value of $\\alpha$. The proof follows from the definition of convexity.\n",
    "\n",
    "If $x,y\\in C_\\alpha$, then both $f(x)$ and $f(y)$ are below $\\alpha$. Since $f$ is convex, $f(\\theta x + (1-\\theta)y) \\leq \\alpha$ as well and therefore $\\theta x + (1-\\theta)y\\in C_a$, proving convexity. \n",
    "\n",
    "The mental picture is:\n",
    "![sublevel cvx](convex_img/sublevel_convex.jpg)\n",
    "\n",
    "The converse is false. A function can have all of its sublevel sets convex but not be a convex function. As a counterexample, take $f(x) = e^{-x}$.\n",
    "![sublevel converse](convex_img/sublevel_converse.jpg)\n",
    "\n",
    "### Epigraph\n",
    "The graph of a function $f:\\mathbf{R}^{n}\\to \\mathbf{R}^{}$ is defined as \n",
    "\n",
    "\\begin{equation}\n",
    "\\left\\{(x,f(x)) \\mid x\\in \\mathbf{dom} f\\right\\}\n",
    "\\end{equation}\n",
    "\n",
    "The *epigraph* of a function $f:\\mathbf{R}^{n}\\to \\mathbf{R}^{}$ is defined as \n",
    "\n",
    "\\begin{equation}\n",
    "\\mathbf{epi} f = \\left\\{(x,t)\\in \\mathbf{R}^{n+1} \\mid\n",
    "x\\in\\mathbf{dom} f,\\, f(x) \\leq t\\right\\}.\n",
    "\\end{equation}\n",
    "\n",
    "So the epigraph is the entire set above the graph. The mental picture is:\n",
    "![epigraph](convex_img/epigraph.jpg)\n",
    "\n",
    "$f$ is convex if and only if $\\mathbf{epi} f$ is a convex set."
   ]
  },
  {
   "cell_type": "markdown",
   "metadata": {},
   "source": [
    "### Jensen's inequality and extensions\n",
    "\n",
    "The basic inequality in equation (\\ref{eq:convexity_def}) is: \n",
    "\n",
    "\\begin{equation}\n",
    "f(\\theta x + (1-\\theta)y) \\leq \\theta f(x) + (1-\\theta) f(y)\n",
    "\\end{equation}\n",
    "\n",
    "Sometimes this is called *Jensen's inequality* and it has tons of extensions. One generality is that if $f$ is\n",
    "convex, then \n",
    "\n",
    "\\begin{equation}\n",
    "f\\left(\\mathbf{E}(z)\\right) \\leq \\mathbf{E}f(z)\n",
    "\\end{equation}\n",
    "\n",
    "for any random variable $z$.\n"
   ]
  },
  {
   "cell_type": "markdown",
   "metadata": {},
   "source": [
    "## Operations that preserve convexity"
   ]
  },
  {
   "cell_type": "markdown",
   "metadata": {},
   "source": [
    "### Nonnegative weighted sums\n",
    "\n",
    "We can use some of the properties of convex sets to derive results about operations that preserve convexity of functions. \n",
    "\n",
    "**Scaling a function**\n",
    "\n",
    "Scaling a convex function $f$ by $w \\geq 0$  preserves convexity. This should be\n",
    "easy to imagine, but the proof is quick:\n",
    "\n",
    "\\begin{equation}\n",
    "f \\text{ convex } \\implies\n",
    "w f(\\theta x + (1-\\theta)y) \\leq w\\theta f(x) + w(1-\\theta) f(y)\n",
    "\\end{equation}\n",
    "\n",
    "which suffices to show the convexity of $wf$.\n",
    "\n",
    "Of course, the \"nonnegative\" part is vital. For example, scaling by -1 would make the function concave, and would not preserve convexity. Algebraically, in the proof, scaling by -1 would flip the inequality.\n",
    "\n",
    "**Sum of two functions**\n",
    "\n",
    "If two functions $f_1$ and $f_2$ are convex, then so is their sum. \n",
    "\n",
    "We will show this a few ways. The first way is simply by applying the definition of function convexity directly. Let $f_1,$ and $f_2$ be arbitrary convex functions and arbitrarily choose $x,y\\in \\mathbf{dom}f_1, f_2$ and $\\theta \\in [0,1]$. Let $g = f_1 + f_2$, then\n",
    "\n",
    "\\begin{align}\n",
    "f_1(\\theta x + (1-\\theta)y) &\\leq \\theta f_1(x) + (1-\\theta)f_1(y) \\\\\n",
    "f_2(\\theta x + (1-\\theta)y) &\\leq \\theta f_2(x) + (1-\\theta)f_2(y) \\\\\n",
    "\\implies\n",
    "g(\\theta x + (1-\\theta)y) & \\leq \\theta g(x) + (1-\\theta) g(y)\n",
    "\\end{align}\n",
    "\n",
    "which shows convexity directly, since it's the same as writing\n",
    "\n",
    "\\begin{equation}\n",
    "(f_1 + f_2)(\\theta x + (1-\\theta)y) = \\theta(f_1 + f_2)(x) +\n",
    "(1-\\theta)(f_1+f_2)(y)\n",
    "\\end{equation}\n",
    "\n"
   ]
  },
  {
   "cell_type": "markdown",
   "metadata": {},
   "source": [
    "While the proof is certainly short, it doesn't really provide any insight into the geometric reason why convexity is preserved. The visual reason is for why the proof works is that in order to break convexity of the sum, you would have to violate convexity for at least $f_1$ or $f_2$."
   ]
  },
  {
   "cell_type": "code",
   "execution_count": 3,
   "metadata": {
    "scrolled": true
   },
   "outputs": [
    {
     "data": {
      "image/png": "[encoded data removed]",
      "text/plain": [
       "<Figure size 576x288 with 2 Axes>"
      ]
     },
     "metadata": {
      "needs_background": "light"
     },
     "output_type": "display_data"
    }
   ],
   "source": [
    "fig, axes = plt.subplots(1,2,figsize=(8,4))\n",
    "x = np.linspace(-2,2,200)\n",
    "f1 = x**2 + 1\n",
    "f2 = 2*np.abs(x - 1) +1\n",
    "f3 = np.sin(np.pi*x)\n",
    "for ax, _f in zip(axes, [f2, f3]):\n",
    "    ax.plot(x, f1, label=r'$f_1$');ax.plot(x, _f, label=r'$f_2$')\n",
    "    ax.plot(x, f1+ _f, 'k--', label=r'$f_1 + f_2$')\n",
    "    ax.legend();\n",
    "axes[0].set_title('Sum of convex functions'); \n",
    "axes[1].set_title('Sum of non-convex functions');\n",
    "plt.show()"
   ]
  },
  {
   "cell_type": "markdown",
   "metadata": {},
   "source": [
    "**Epigraph arguments for scaling and sums**\n",
    "\n",
    "The geometric arguments is more mentally convincing and easy to remember than the proofs. Indeed, there is a more elegant argument that proves each claim using an epigraph argument. \n",
    "\n",
    "We know that a function is convex if and only if its epigraph is a convex set.\n",
    "We also know that the image of any convex set under an affine transformation is\n",
    "convex.\n",
    "\n",
    "So for scaling:\n",
    "\n",
    "\\begin{equation}\n",
    "\\mathbf{epi}(wf) \n",
    "=\n",
    "\\begin{bmatrix}\n",
    "I & 0 \\\\\n",
    "0 & w\n",
    "\\end{bmatrix}\n",
    "\\mathbf{epi}(f)\n",
    "=\n",
    "\\begin{bmatrix}\n",
    "I & 0 \\\\\n",
    "0 & w\n",
    "\\end{bmatrix}\n",
    "\\begin{bmatrix}\n",
    "x \\\\\n",
    "t \\mid t \\geq wf(x)\n",
    "\\end{bmatrix}\n",
    "\\end{equation}\n",
    "\n",
    "Since we wrote $\\mathbf{epi}(wf)$ as an affine transformation of a convex set,\n",
    "it's convex and hence so is $wf$.\n",
    "\n",
    "\n",
    "For sums:\n",
    "\\begin{equation}\n",
    "\\mathbf{epi}(f_1 + f_2) \n",
    "=\n",
    "\\begin{bmatrix}\n",
    "I & 0 & 0 \\\\\n",
    "0 & 1 & 1 \n",
    "\\end{bmatrix}\n",
    "\\begin{bmatrix}\n",
    "x \\\\\n",
    "t \\mid t \\geq f_1(x) \\\\\n",
    "t \\mid t \\geq f_2(x)\n",
    "\\end{bmatrix}.\n",
    "=\n",
    "\\begin{bmatrix}\n",
    "I & 0 \\\\\n",
    "0 & w\n",
    "\\end{bmatrix}\n",
    "\\left\\{\\mathbf{epi}f \\times \\left\\{t| t\\geq\n",
    "f_2(x)\\right\\}\\right\\}\n",
    "\\end{equation}\n",
    "\n",
    "where the set $\\left\\{\\mathbf{epi}f \\times \\left\\{t| t\\geq\n",
    "f_2(x)\\right\\}\\right\\}$ is convex since it is the tensor product of two convex\n",
    "sets.\n",
    "\n",
    "\n",
    "\n",
    "\n"
   ]
  },
  {
   "cell_type": "markdown",
   "metadata": {},
   "source": [
    "**Result for nonnegative weighted sums of functions**\n",
    "\n",
    "Since we have shown that applying nonnegative scaling and sums to convex\n",
    "functions preserves convexity, it should be clear that we can iteratively apply\n",
    "the scaling and sum procedures to conclude that any sum of weighted convex\n",
    "functions (where weights are nonnegative) will be a convex function:\n",
    "\n",
    "\\begin{equation}\n",
    "f = w_1 f_1 + \\ldots + w_n f_n \\;\\;\\text{ is convex, }\n",
    "\\qquad \\text{ for } w_i \\geq 0,\\, f_i \\text{ convex }\n",
    "\\end{equation}\n",
    "\n"
   ]
  },
  {
   "cell_type": "markdown",
   "metadata": {},
   "source": [
    "**Generalization to integrals**\n",
    "\n",
    "We can take this result and apply it to an infinite sum of functions, giving a\n",
    "result for general integrals.\n",
    "\n",
    "If $f(x,y)$ is convex in $x$ for each $y \\in \\mathcal{A}$, and $w(y) \\geq 0$ for\n",
    "each $y\\in \\mathcal{A}$, then the funtion $g(x)$ defined as \n",
    "\n",
    "\\begin{equation}\n",
    "g(x) = \\int_{A}^{} w(y) f(x,y) \\,dy \n",
    "\\end{equation}\n",
    "\n",
    "is convex in $x$ (provided that the integral exists).\n",
    "\n",
    "We can see how the threads of logic from the earlier conclusions are used to\n",
    "build this result.\n",
    "\n",
    "The key to understanding this statement to recognize that $y$ is just a dummy variable that indexes the sum. Note that discretely, we would replace the integration over $y$ with the sum \n",
    "\n",
    "\\begin{equation}\n",
    "g(x) = \\sum_{y=1}^{n} w_y f_y(x) \n",
    "\\qquad \\text{ (discrete analogue) }\n",
    "\\end{equation}\n",
    "\n",
    "from which we can see\n",
    "\n",
    "- $w(y)$ must be nonnegative over the entire region of integration\n",
    "$\\mathcal{A}$ to not to flip a convex function into a concave one.\n",
    "- $f(x,y)$ must be convex in $x$ for each $y\\in\\mathcal{A}$ just like we\n",
    "demanded that every function $f_y(x)$ in the sum must be convex. \n"
   ]
  },
  {
   "cell_type": "markdown",
   "metadata": {},
   "source": [
    "### Composition with affine mapping"
   ]
  },
  {
   "cell_type": "markdown",
   "metadata": {},
   "source": [
    "Intuitively, it should make sense that any affine transformation of the domain of a convex function should not affect its convexity. Rotating and scaling $\\mathbf{dom} f$ should not affect the \"bowl shapeness\" of $\\mathbf{epi} f$ sitting \"above\".\n",
    "\n",
    "To illustrate this point, we take the specific example of \n",
    "\n",
    "\\begin{equation}\n",
    "f(x,y) = x^2 + 2y^2\n",
    "\\end{equation}\n",
    "\n",
    "And the composition with the matrix $A$\n",
    "\n",
    "\\begin{equation}\n",
    "\\begin{bmatrix}\n",
    "0 & 1 \\\\\n",
    "-1 & 1\n",
    "\\end{bmatrix}\n",
    "\\end{equation}\n",
    "\n",
    "to form the affine composition\n",
    "\\begin{equation}\n",
    "g = f(Ax) = f(y, -x + y) = 2x^2 + 3y^2 -4xy\n",
    "\\end{equation}\n",
    "\n"
   ]
  },
  {
   "cell_type": "code",
   "execution_count": 4,
   "metadata": {},
   "outputs": [],
   "source": [
    "f = lambda x,y: x**2 + 2*y**2\n",
    "f2 = lambda x,y: 3*y**2 + 2*x**2 - 4*x*y\n",
    "x = np.linspace(-1,1,100)\n",
    "X,Y = np.meshgrid(x,x)\n",
    "Z = f(X,Y)"
   ]
  },
  {
   "cell_type": "code",
   "execution_count": 5,
   "metadata": {},
   "outputs": [],
   "source": [
    "A = np.array([[0,  1],\n",
    "              [-1, 1]])\n",
    "b = np.array([0,0])"
   ]
  },
  {
   "cell_type": "code",
   "execution_count": 6,
   "metadata": {},
   "outputs": [],
   "source": [
    "# compute the transform of the domain\n",
    "XX = np.stack(np.meshgrid(x,x))\n",
    "trans = np.einsum('ij,jkl', A, XX) + b[:,np.newaxis, np.newaxis]\n",
    "tX, tY = trans[0,...], trans[1,...]\n",
    "tZ = f(tX, tY)"
   ]
  },
  {
   "cell_type": "code",
   "execution_count": 7,
   "metadata": {},
   "outputs": [
    {
     "data": {
      "image/png": "[encoded data removed]",
      "text/plain": [
       "<Figure size 648x216 with 3 Axes>"
      ]
     },
     "metadata": {
      "needs_background": "light"
     },
     "output_type": "display_data"
    }
   ],
   "source": [
    "fig, ax = plt.subplots(1,3, figsize=(9, 3))\n",
    "\n",
    "ax[0].set_title(r'$f(x)$');\n",
    "ax[0].contourf(X, Y, Z, levels=np.linspace(0,3,10))\n",
    "ax[1].set_title(r'transformed dom $Ax$')\n",
    "ax[1].set_xlim([-1,1]); ax[1].set_ylim([-1,1])\n",
    "ax[1].contourf(tX, tY, f(tX, tY), levels=np.linspace(0,3,10))\n",
    "ax[2].set_title(r'composition $f(Ax)$')\n",
    "ax[2].contourf(X, Y, f2(X,Y), levels=np.linspace(0,9,10))\n",
    "plt.show()"
   ]
  },
  {
   "cell_type": "markdown",
   "metadata": {},
   "source": [
    "This is the intuition for the following result\n",
    "\n",
    "**Composition with an affine mapping preserves convexity**\n",
    "\n",
    "Let $f:\\mathbf{R}^{n}\\to R$, $A\\in \\mathbf{R}^{n\\times m}$, and $b\\in\n",
    "\\mathbf{R}^{n}$. Define the affine composition\n",
    "\n",
    "\\begin{equation}\n",
    "g(x) = f(Ax + b), \\qquad \\mathbf{dom}\\,g = \\left\\{x \\mid Ax + b \\in \\mathbf{dom}\n",
    "f\\right\\}.\n",
    "\\end{equation}\n",
    "\n",
    "Then if $f$ is convex, so is $g$.\n",
    "\n",
    "*Examples*\n",
    "\n",
    "*Log barrier for linear inequalities*\n",
    "\n",
    "\\begin{equation}\n",
    "f(x) = - \\sum_{i=1}^{m} \\log\\left(b_i - a_i^T x\\right), \\qquad \\mathbf{dom} f =\n",
    "\\left\\{x \\mid a_i^T x < b_i,\\, i=i,\\ldots,m\\right\\}\n",
    "\\end{equation}\n",
    "\n",
    "Is convex, because the function\n",
    "\n",
    "\\begin{equation}\n",
    "\\phi(z) = \\sum_i - \\log(z_i)\n",
    "\\end{equation}\n",
    "\n",
    "is a convex function, since $log(z)$ is concave and sums of convex functions are\n",
    "convex. Then $f(x)$ is the convex function $\\phi$(z) precomposed with an affine\n",
    "function $b_i - a_i^T x$ and hence is convex also.\n",
    "\n"
   ]
  },
  {
   "cell_type": "markdown",
   "metadata": {},
   "source": [
    "### Pointwise maximum\n",
    "\n",
    "*Result*\n",
    "If two functions $f_1$ and $f_2$ are convex, then their pointwise maximum\n",
    "\n",
    "\\begin{equation}\n",
    "f(x) = \\max\\left\\{f_1(x),\\, f_2(x)\\right\\}\n",
    "\\end{equation}\n",
    "\n",
    "with $\\mathbf{dom}f = \\mathbf{dom}f_1 \\cap \\mathbf{dom} f_2$ is also convex.\n",
    "\n",
    "*Mental pictures*\n",
    "\n",
    "As with nonnegative weighted sums, this idea is easier for me to think about graphically rather than algebraically.\n",
    "\n",
    "![pointwise max ex1](convex_img/pointwise_max_ex1.jpg)\n",
    "\n",
    "The figure above shows a good mental image of the pointwise maximum idea.  We take the pointwise maximum of $f_1=x^2$ and $f_2 = 1/x$.  The shaded region is the epigraph of the pointwise maximum, and we see that the domain of the pointwise max has been restricted to only $\\mathbf{R}^{}_+$.\n",
    "\n",
    "We can also see why we need both to be convex. Clearly, if the greater function is not convex, it will violate the convexity of the pointwise max.\n",
    "\n",
    "![pointwise max ex2](convex_img/pointwise_max_ex2.jpg)\n",
    "\n",
    "*Proof*\n",
    "\n",
    "In this section we write out the proof, which is pretty straightforward. Take $f_1,f_2$ convex, $f=\\max\\left\\{f_1,f_2\\right\\}$, and $x,y\\in \\mathbf{dom} f$.\n",
    "\n",
    "\\begin{align}\n",
    "f(\\theta x + (1-\\theta)y \n",
    "&= \\max\\left\\{f_1(\\theta x + (1-\\theta)y), f_2(\\theta x + (1-\\theta) y)\\right\\} \\\\\n",
    "&\\leq \\max\\left\\{\\theta f_1(x) + (1-\\theta)f_1(y),\\,\n",
    "\\theta f_2(x) + (1-\\theta)f_2(y) \\right\\} \\\\\n",
    "&\\leq \\theta \\max\\left\\{f_1(x), f_2(x)\\right\\} + (1-\\theta) \\max\\left\\{f_1(y),\n",
    "f_2(y)\\right\\} \\\\\n",
    "&= \\theta f(x) + (1-\\theta) f(y)\n",
    "\\end{align}\n",
    "\n",
    "\n",
    "*Extensions*\n",
    "\n",
    "Since we can successively take pointwise maxima, this result holds for an arbtrary number of functions. If $f_1,\\ldots,f_m$ are convex, then their\n",
    "pointwise maximum\n",
    "\n",
    "\\begin{equation}\n",
    "f(x) = \\max \\left\\{f_1(x),\\ldots,f_m(x)\\right\\}\n",
    "\\end{equation}\n",
    "\n",
    "is also convex.\n",
    "\n"
   ]
  },
  {
   "cell_type": "markdown",
   "metadata": {},
   "source": [
    "**Examples**\n",
    "\n",
    "*Max of Linear Functions*\n",
    "\n",
    "This example is sort of lame, but since hyperplanes are convex (indeed, affine) functions, taking the pointwise maximum of a set of linear functions results in a piecewise, linear convex function (see diagram).\n",
    "\n",
    "![pointwise max ex3](convex_img/pointwise_max_ex3.jpg)\n",
    "\n",
    "It's not an incredibly profound statement, since it's really the pointwise maximum function that's ensuring convexity, but it is nonetheless true that the function\n",
    "\n",
    "\\begin{equation}\n",
    "f(x) = \\max\\left\\{a_1^T x + b_1,\\ldots, a_L^T x + b_L \\right\\}\n",
    "\\end{equation}\n",
    "\n",
    "defines a piecewise-linear convex function (with $L$ or fewer regions)."
   ]
  },
  {
   "cell_type": "markdown",
   "metadata": {},
   "source": [
    "*Sum of* $r$ *largest components*\n",
    "\n",
    "For a vector $x\\in\\mathbf{R}^{n}$, the function that sums the $r$ largest components (take $x$ to be sorted largest-to-smalles without loss of generality):\n",
    "\n",
    "\\begin{equation}\n",
    "f(x) = \\sum_{i=1}^{r} x_{[i]}\n",
    "\\end{equation}\n",
    "\n",
    "is a convex function.\n",
    "\n",
    "It is a convex function because if represents the pointwise maximum of all the functions that sum $r$ distinct components of $x$, that is\n",
    "\n",
    "\\begin{equation}\n",
    "f(x) = \\max\\left\\{x_{i_1} + \\ldots + x_{i_r} \\mid 1\\leq i_1 < i_2 <\\ldots < i_r\n",
    "\\leq n\\right\\}\n",
    "\\end{equation}\n",
    "\n",
    "Which is another way of saying of all the $n!/(r!(n-r)!)$ ways to sum $r$ components of $x$, $f(x)$ is their pointwise maximum, hence convex.\n",
    "\n",
    "This example is interesting because although $f(x)$ is non-differentiable and non-smooth in terms of $x$ but is nonetheless convex in $x$.\n",
    "\n"
   ]
  },
  {
   "cell_type": "markdown",
   "metadata": {},
   "source": [
    "### Pointwise supremum\n",
    "\n",
    "We can generalize the result that the pointwise maximum $f$ over a set of $m$ convex functions $f_1,\\ldots f_m$ is convex to the pointwise supremum over an infinite set of convex functions. \n",
    "\n",
    "*The generalized result:*\n",
    "\n",
    "If, for each $y\\in A$, a function $f(x,y)$ is convex in $x$, then the function\n",
    "\n",
    "\\begin{equation}\n",
    "g(x) = \\sup_{y\\in A} f(x,y)\n",
    "\\end{equation}\n",
    "\n",
    "is convex in $x$.\n",
    "\n",
    "The way to think about this is a set of convex functions parametrized by a continuous value $y$. We have to be a bit careful about the domain, just as we did for the pointwise max of functions which might not share a common domain. Here we make sure that he domain of $f$ contains only $x,y$ pairs which make sense.\n",
    "\n",
    "\\begin{equation}\n",
    "\\mathbf{dom}\\, g = \\left\\{x \\mid (x,y)\\in \\mathbf{dom}f \\text{ for all } y\\in\n",
    "A,\\, \\sup_{y\\in A} f(x,y) < \\infty\\right\\}\n",
    "\\end{equation}\n",
    "\n",
    "Take $g(x) = \\sup_{y\\in[0,1]} x/y$\n",
    "\n",
    "*Proof*\n",
    "\n",
    "We prove the claim using an epigraph argument. The epigraph of $g$ can be written as an intersection of epigraphs.\n",
    "\n",
    "\\begin{equation}\n",
    "\\mathbf{epi}\\, g = \\bigcap_{y\\in A} \\mathbf{epi} f(\\cdot,y).\n",
    "\\end{equation}\n",
    "\n",
    "and since any intersection of convex sets is convex, so is $\\mathbf{epi}\\, g$, which is sufficient to show convexity."
   ]
  },
  {
   "cell_type": "markdown",
   "metadata": {},
   "source": [
    "**Examples**\n",
    "\n",
    "*Distance to the farthest point of a set*\n",
    "\n",
    "Let $C \\subseteq \\mathbf{R}^{n}$. The distance in any norm to the farthest point of $C$ can be written as \n",
    "\n",
    "\\begin{equation}\n",
    "f(x) = \\sup_{y\\in C} \\left\\Vert x - y\\right\\Vert\n",
    "\\end{equation}\n",
    "\n",
    "This function is convex, because for any fixed $y\\in C$, $\\left\\Vert x-y_0\\right\\Vert$ is convex in $x$ (since all norms are convex). So we can take the supremum over all choices of $y\\in C$ and use the pointwise supremum result to assert convexity.\n",
    "\n",
    "*Maximum eigenvalue of a symmetric matrix*\n",
    "\n",
    "The function $f(X) = \\lambda_{max}(X)$, with $\\mathbf{dom} f = S^m$, is convex.\n",
    "\n",
    "To see this, we express $f$ as \n",
    "\n",
    "\\begin{equation}\n",
    "f(X) = \\sup\\left\\{y^T X y \\mid \\;\\; \\left\\Vert y\\right\\Vert_{2} = 1 \\right\\}\n",
    "\\end{equation}\n",
    "\n",
    "In my opinion, this isn't a great example because it's sort of an obscure linear algebra fact that the largest eigenvalue can be written this way, but sure, if you see it, you're done.\n",
    "\n"
   ]
  },
  {
   "cell_type": "markdown",
   "metadata": {},
   "source": [
    "**Converse: representation of convex function as pointwise supremum of affine\n",
    "functions**\n",
    "\n",
    "We've seen arguments for convexity by expressing the function as the pointwise supremum of convex functions.  We make a small remark about going in reverse.  Almost every convex function (except for a technical condition explained in Boyd, need more details) can be expressed as a pointwise supremum of a family of affine functions. The proof is sort of long, but boils down to the following idea:\n",
    "\n",
    "Every convex function has an epigraph which is a convex set. Every convex set has a supporting hyperplane at every boundary point. So we can represent the convex function by taking the pointwise supremum over all affine global underestimators (see illustration).\n",
    "\n",
    "![cvx glob under](convex_img/cvx_fn_via_aff_sup.jpg)"
   ]
  },
  {
   "cell_type": "markdown",
   "metadata": {},
   "source": [
    "### Composition\n",
    "#### Scalar composition\n",
    "\n",
    "The intuitive way to think about composition is to reduce it to the scalar case\n",
    "and look at the second derivative using the chain rule. Let $f(x) = h(g(x))$ be\n",
    "a scalar functional composition.\n",
    "\n",
    "\\begin{align}\n",
    "f^\\prime(x) &= h^\\prime(g(x)) g^\\prime(x) \\\\\n",
    "f^{\\prime\\prime}(x) \n",
    "&= h^{\\prime\\prime}(g(x)) \\left[g^\\prime(x)\\right]^2 \n",
    "+ h^\\prime(g(x)) g^{\\prime\\prime}(x)\n",
    "\\end{align}\n",
    "\n",
    "Then the question is, what needs to be true of $h(x)$ and $g(x)$ in order for\n",
    "$f(x)$ to be convex. If $h(x)$ and $g(x)$ are convex, then\n",
    "\n",
    "\\begin{equation}\n",
    "f^{\\prime\\prime}(x) = \n",
    "\\underbrace{h^{\\prime\\prime}(g(x))}_{\\geq 0 \\,\\text{ since } h \\text{ convex}}\n",
    "\\underbrace{\\left[g^\\prime(x)\\right]^2 }_{\\geq 0 }\n",
    "+ \\underbrace{h^\\prime(g(x)) }_{?}\n",
    "\\underbrace{g^{\\prime\\prime}(x)}_{\\geq 0 \\text{ since } g \\text { convex}}\n",
    "\\end{equation}\n",
    "\n",
    "So to make $f^{\\prime\\prime}\\geq 0 $ (and hence $f$ convex), we need\n",
    "$h^{\\prime}(g(x)) \\geq 0 $, that is, we need $h^\\prime(\\cdot) \\geq 0$ or $h$ to\n",
    "be nondecreasing. This gives us the final rule:\n",
    "\n",
    "*a nondecreasing convex function of a convex function is convex.*\n",
    "\n",
    "Now it turns out that these types of composition rules hold for non-differentiable, non-scalar functions $g,h$. But the way to think about or rederive the rules is to re-write out the scalar case and consider the signs.\n",
    "\n",
    "*Example:* $\\exp g(x)$\n",
    "\n",
    "The function $\\exp g(x)$ is convex if $g(x)$ is convex. This says that the exponential function preserved positive curvature; if a function curves up, the exponential of the function also curves up."
   ]
  },
  {
   "cell_type": "markdown",
   "metadata": {},
   "source": [
    "#### An important subtlety about the general rule"
   ]
  },
  {
   "cell_type": "markdown",
   "metadata": {},
   "source": [
    "#### Vector-valued composition\n",
    "\n",
    "The vector-valued composition $f$ of $g:\\mathbf{R}^{n}\\to\\mathbf{R}^{k}$ and $h:\\mathbf{R}^{k}\\to R$, that is,\n",
    "\n",
    "\\begin{equation}\n",
    "f(x) = h\\left(g_1(x), g_2(x),\\ldots, g_k(x)\\right)\n",
    "\\end{equation}\n",
    "\n",
    "The possibilities for these types of functions just explode, because now you can\n",
    "have functions $g_i(x)$ either increasing or decreasing in each argument, and\n",
    "they can be convex or non-convex in each argument. However, we can still apply\n",
    "rules similar to the scalar composition case by looking at the behavior of $h$\n",
    "in each argument ($g_i$).\n",
    "\n",
    "By *in each argument* I mean that you fix all components of $h$ except one. Then\n",
    "you increase the value of that argument; if the value of $h$ doesn't go down, then $h$ is\n",
    "nondecreasing in that argument.\n",
    "\n",
    "**examples**\n",
    "\n",
    "*Sum of convex functions*\n",
    "\n",
    "*Max of convex function*\n"
   ]
  },
  {
   "cell_type": "markdown",
   "metadata": {},
   "source": [
    "### Minimization\n",
    "\n",
    "If $f(x,y)$ is convex in $(x,y)$ and $C$ is a convex set, then\n",
    "\n",
    "\\begin{equation}\n",
    "g(x) = \\inf_{y \\in C} f(x,y)\n",
    "\\end{equation}\n",
    "\n",
    "is convex. \n",
    "\n",
    "Contrast this to maximization, which had a far less strict set of conditions for\n",
    "convexity.\n"
   ]
  },
  {
   "cell_type": "markdown",
   "metadata": {},
   "source": [
    "## The conjugate function"
   ]
  },
  {
   "cell_type": "markdown",
   "metadata": {},
   "source": [
    "Let $f\\colon \\mathbf{R}^{n}\\to \\mathbf{R}^{}$. The function defined as \n",
    "\n",
    "\\begin{equation}\n",
    "f^*(y) = \\sup_{x\\in\\mathbf{dom} f} \\left(y^T x - f(x)\\right)\n",
    "\\end{equation}\n",
    "\n",
    "is called the *conjugate* of the function $f$.\n",
    "\n",
    "The domain of the conjugate function consists of $y\\in\\mathbf{R}^{n}$ for which the supremum is finite, i.e., where $y^Tx - f(x)$ is bounded above on $\\mathbf{dom} f$.\n",
    "\n",
    "The mental picture is:\n",
    "![conj fn mental](convex_img/conj_fn_mental.png)\n",
    "\n",
    "The conjugate function is convex, since it is the pointwise supremum of a family of convex (affine) functions of $y$. This is true whether or not $f$ is convex.\n"
   ]
  },
  {
   "cell_type": "markdown",
   "metadata": {},
   "source": [
    "## Quasiconvex functions\n",
    "## Log-concave and log-convex functions\n",
    "## Convexity with respect to generalized inequalities\n",
    "## Exercises"
   ]
  },
  {
   "cell_type": "code",
   "execution_count": null,
   "metadata": {},
   "outputs": [],
   "source": []
  }
 ],
 "metadata": {
  "hide_input": false,
  "kernelspec": {
   "display_name": "NMSMExp_env",
   "language": "python",
   "name": "nmsmexp_env"
  },
  "language_info": {
   "codemirror_mode": {
    "name": "ipython",
    "version": 3
   },
   "file_extension": ".py",
   "mimetype": "text/x-python",
   "name": "python",
   "nbconvert_exporter": "python",
   "pygments_lexer": "ipython3",
   "version": "3.6.6"
  },
  "toc": {
   "base_numbering": 1,
   "nav_menu": {},
   "number_sections": true,
   "sideBar": true,
   "skip_h1_title": false,
   "title_cell": "Table of Contents",
   "title_sidebar": "Contents",
   "toc_cell": false,
   "toc_position": {},
   "toc_section_display": true,
   "toc_window_display": false
  }
 },
 "nbformat": 4,
 "nbformat_minor": 2
}
