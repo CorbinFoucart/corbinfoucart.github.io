{
 "cells": [
  {
   "cell_type": "code",
   "execution_count": 1,
   "metadata": {},
   "outputs": [],
   "source": [
    "import numpy as np\n",
    "import matplotlib.pyplot as plt\n",
    "from mpl_toolkits.mplot3d import Axes3D\n",
    "from matplotlib import cm\n",
    "plt.style.use('bmh')\n",
    "\n",
    "# custom figure styles\n",
    "from plot_style import std_fig"
   ]
  },
  {
   "cell_type": "markdown",
   "metadata": {},
   "source": [
    "# Newton methods"
   ]
  },
  {
   "cell_type": "markdown",
   "metadata": {},
   "source": [
    "## Newton's method for root-finding"
   ]
  },
  {
   "cell_type": "markdown",
   "metadata": {},
   "source": [
    "Newton's method (sometimes called the Newton-Raphson method) is a root-finding\n",
    "algorithm which produces successively better approximations to the roots a\n",
    "nonlinear equations.\n",
    "\n",
    "The mental picture for Newton's method is to imagine the triangle formed by a\n",
    "function evaluation and its derivative\n",
    "\n",
    "<img src=img/newton1d.png width=400>\n",
    "\n",
    "we have that we can write \n",
    "\n",
    "\\begin{equation}\n",
    "f^{\\prime}(x_i) = \\frac{\\delta y}{\\delta x} = \\frac{f(x_i)}{\\delta x} \n",
    "\\Rightarrow \\delta x = \\frac{f(x_i)}{f^{\\prime}(x_i)} \n",
    "\\end{equation}\n",
    "\n",
    "giving us an update rule of \n",
    "\n",
    "\\begin{equation}\n",
    "x_{i+1} = x_i - \\frac{f(x_i)}{f^{\\prime}(x_i)} \n",
    "\\end{equation}\n",
    "\n",
    "This method, especially in 1D, is easy to implement, and we provide a simple implementation below."
   ]
  },
  {
   "cell_type": "code",
   "execution_count": 2,
   "metadata": {},
   "outputs": [],
   "source": [
    "def newton_step(x0, f, df):\n",
    "    \"\"\"performs a step of newton's method in 1D\"\"\"\n",
    "    return x0 - f(x0)/df(x0)\n",
    "\n",
    "def newton1D(x0, f, df, tol=1e-12, max_iterations=100):\n",
    "    \"\"\"newton's method in 1D, finding f(x) = 0 for nonlinear f\n",
    "    :param x0: starting guess\n",
    "    :param f: function returning f(x)\n",
    "    :param df: function which returns derivative df/dx(x)\n",
    "    \n",
    "    :returns: tuple (x_root, converged, x_history, error_history)\n",
    "    \"\"\" \n",
    "    x_history, error_history = [x0], [f(x0)]\n",
    "    \n",
    "    x, converged, iterations = x0, False, 0\n",
    "    while True:\n",
    "        x = newton_step(x, f, df)\n",
    "        error = f(x)\n",
    "        iterations += 1\n",
    "        \n",
    "        x_history.append(x)\n",
    "        error_history.append(error)\n",
    "        \n",
    "        if error < tol:\n",
    "            converged = True\n",
    "            break\n",
    "        if iterations > max_iterations:\n",
    "            break\n",
    "            \n",
    "    return (x, converged, x_history, error_history)"
   ]
  },
  {
   "cell_type": "markdown",
   "metadata": {},
   "source": [
    "We show the performance of the algorithm for the simple 1D problem of finding the roots of the nonlinear polynomial $f(x) = x^2 - 2$."
   ]
  },
  {
   "cell_type": "code",
   "execution_count": 3,
   "metadata": {},
   "outputs": [],
   "source": [
    "x = np.linspace(-5, 10, 100)\n",
    "y = x**2 - 2"
   ]
  },
  {
   "cell_type": "code",
   "execution_count": 4,
   "metadata": {},
   "outputs": [],
   "source": [
    "f = lambda x: x**2 - 2\n",
    "df = lambda x: 2*x"
   ]
  },
  {
   "cell_type": "code",
   "execution_count": 5,
   "metadata": {},
   "outputs": [],
   "source": [
    "x_root, conv, x_hist, errs = newton1D(x0=10, f=f, df=df)"
   ]
  },
  {
   "cell_type": "code",
   "execution_count": 6,
   "metadata": {},
   "outputs": [
    {
     "data": {
      "image/png": "[encoded data removed]",
      "text/plain": [
       "<Figure size 576x288 with 2 Axes>"
      ]
     },
     "metadata": {
      "needs_background": "light"
     },
     "output_type": "display_data"
    }
   ],
   "source": [
    "with std_fig(1, 2, figsize=(8, 4)) as (fig, ax):\n",
    "    ax[0].plot(x, y, linewidth=3)\n",
    "    for i in range(5):\n",
    "        ax[0].plot([x_hist[i], x_hist[i+1]],\n",
    "                [f(x_hist[i]), 0], 'o--', c='g')\n",
    "        ax[0].plot([x_hist[i], x_hist[i]],\n",
    "                [0, f(x_hist[i])], 'o--', c='g')\n",
    "    ax[0].set_xlim([0, 11])\n",
    "    ax[0].set_title(r'Newton iterations, $x^2-2=0$')\n",
    "    ax[1].semilogy(np.arange(len(errs)), errs, 'o')\n",
    "    ax[1].set_title('error vs iteration')"
   ]
  },
  {
   "cell_type": "markdown",
   "metadata": {},
   "source": [
    "We can see the quadratic convergence in the error."
   ]
  },
  {
   "cell_type": "markdown",
   "metadata": {},
   "source": [
    "## Caveats for Newton's method\n",
    "\n",
    "- convergence not guaranteed\n",
    "    - estimate for root can grow unbounded\n",
    "    - estimates can get caught in a cycles\n",
    "- if first derivative is zero at root, the convergence is not quadratic"
   ]
  },
  {
   "cell_type": "markdown",
   "metadata": {},
   "source": [
    "## Extension to multivariate Newton's method\n",
    "\n",
    "Suppose we want to solve a system of nonlinear equations. This requires\n",
    "generalization of the 1D case to a multivariate setting. \n",
    "\n",
    "### Preliminaries\n",
    "\n",
    "Let ${g}: D\\subseteq \\mathbb{R}^n \\to \\mathbb{R}^m$ be a function which is\n",
    "differentiable on $D$. We define the gradient $\\nabla g\\in \\mathbb{R}^{m\\times\n",
    "n}$ of the function $g$ as:\n",
    "\n",
    "\\begin{equation}\n",
    "\\left[\\nabla g\\right]_{ij} \\equiv \\frac{\\partial g_i}{\\partial x_j}\n",
    "\\end{equation}\n",
    "\n",
    "For a concrete example, take $f:\\mathbb{R}^3 \\to \\mathbb{R}^2$\n",
    "\n",
    "\\begin{align}\n",
    "f(x, y, z) =\n",
    "\\left[\n",
    "\\begin{array}{c}\n",
    "x^2 + y^2 \\\\\n",
    "x + z + 1 \n",
    "\\end{array}\n",
    "\\right],\\,\n",
    "\\qquad\n",
    "\\nabla f =\n",
    "\\left[\n",
    "\\begin{array}{ccc}\n",
    "2x & 2y & 0 \\\\\n",
    "1 & 0 & 1\\\\\n",
    "\\end{array}\n",
    "\\right].\n",
    "\\end{align}\n",
    "\n",
    "we see that $\\nabla f \\in \\mathbb{R}^{2\\times 3}$. That way, when we take the\n",
    "product $\\nabla f(x)(x-x_0)$ where $x,x_0\\in \\mathbb{R}^n$, we have a\n",
    "well-defined matrix-vector product of an $m\\times n$ matrix by an $n\\times 1$\n",
    "vector. Sometimes, for the case of $f:\\mathbb{R}^n\\to \\mathbb{R}$, it will be\n",
    "written $\\nabla f(x_0)^T (x - x_0)$ for the tangent space, but it seems that the\n",
    "transpose is only used to emphasize that this is a dot product. Unfortunately\n",
    "there is no unified notation for the gradient and you always have to tread\n",
    "carefully when writing things out in matrix-vector form."
   ]
  },
  {
   "cell_type": "markdown",
   "metadata": {},
   "source": [
    "### Generalization\n",
    "\n",
    "Consider a system of nonlinear equations.  The mental picture for the Newton\n",
    "method is the same, but the linear approximation to the function at a point\n",
    "$x_i\\in \\mathbb{R}^n$ is now the tangent space to $g(x)$:\n",
    "\n",
    "\\begin{equation}\n",
    "g_t(x) = g(x_i) + \\nabla g(x_i)(x-x_i)\n",
    "\\end{equation}\n",
    "\n",
    "For intuition, return to the 1D example for a moment. We drew things out\n",
    "geometrically, but we could have expressed the tangent space as \n",
    "\n",
    "\\begin{equation}\n",
    "f_t(x) = f(x_i) + f^{\\prime}(x_i)(x- x_i).\n",
    "\\end{equation}\n",
    "\n",
    "We wanted to find the zero of this tangent space, namely, find\n",
    "$x_{i+1}$ such that $f_t(x_{i+1}) = 0$, giving us \n",
    "\n",
    "\\begin{equation}\n",
    "f(x_i) + f^{\\prime}(x_i)(x_{i+1} - x_i) = 0 \\Rightarrow x_{i+1} = x_i -\n",
    "\\frac{f(x_i)}{f^{\\prime}(x_{i})}.\n",
    "\\end{equation}\n",
    "\n",
    "So the multivariate analogy is to find the point $x_{i+1}\\in \\mathbb{R}^n$ such\n",
    "that $g_t(x_{i+1}) = 0$, yielding\n",
    "\n",
    "\\begin{align}\n",
    "g(x_i) + \\nabla g(x_i)(x_{i+1} - x_i) = 0  \\\\\n",
    "\\Rightarrow x_{i+1} = x_i - \\left[\\nabla g(x_i)\\right]^{-1} g(x_i)\n",
    "\\end{align}\n",
    "\n",
    "which reduces to the correct expression for the 1D case. In order to me\n",
    "invertible, $\\nabla g(x_i)$ must be a square matrix, so, practically, we can\n",
    "restrict our attention to the case of $f:\\mathbb{R}^n \\to \\mathbb{R}^n$."
   ]
  },
  {
   "cell_type": "markdown",
   "metadata": {},
   "source": [
    "### Practical considerations\n",
    "\n",
    "In practice, it doesn't make sense to explicitly invert $\\nabla g(x_i)$,\n",
    "rather, call it the Jacobian matrix $J \\equiv \\nabla g(x)$ and we can think about the equivalent\n",
    "problem where we define the increment vector \n",
    "\n",
    "\\begin{equation}\n",
    "\\delta x \\equiv x_{i+1}-x_i \\qquad \\in \\mathbb{R}^n\n",
    "\\end{equation}\n",
    "\n",
    "to compute the next iterate vector $x_{i+1}$ we solve the linear system \n",
    "\n",
    "\\begin{equation}\n",
    "J \\delta x = - g(x_i)\n",
    "\\end{equation}\n",
    "\n",
    "then update the solution as\n",
    "\n",
    "\\begin{equation}\n",
    "x_{i+1} = x_i + \\delta x\n",
    "\\end{equation}\n",
    "\n",
    "However, this is a very naive algorithm and in practice, nonlinear root finding softwares almost never use such a simple method. See `scipy.optimize` suite of solvers, for example."
   ]
  },
  {
   "cell_type": "markdown",
   "metadata": {},
   "source": [
    "## Newton's method for optimization\n",
    "\n",
    "\n",
    "An interesting perspective on the multivariate Newton's method is when used for\n",
    "optimization. Suppose instead of a finding the root of a nonlinear set of\n",
    "equations, we want to minimize or maximize a function $\\ell(\\theta)$ where\n",
    "$\\theta\\in \\mathbb{R}^n$. \n",
    "\n",
    "We've already done the heavy lifting, because we can view this as solving the\n",
    "nonlinear system $\\nabla \\ell(\\theta) = 0$. So we take $g(\\theta) = \\nabla\n",
    "\\ell(\\theta)$, in which case the Jacobian matrix $J$ is the Hessian matrix $H$\n",
    "of the function $\\ell(\\theta)$\n",
    "\n",
    "\\begin{equation}\n",
    "  H(\\ell(\\theta)) = \\nabla^2 \\ell \\qquad \\text{where} \\qquad \n",
    "  H_{ij} \\equiv \\frac{\\partial^2 \\ell(\\theta) }{\\partial \\theta_i \\partial \\theta_j}\n",
    "\\end{equation}\n",
    "\n",
    "Due to Fubini's theorem about the exchange of derivatives, $H = H^T$ is\n",
    "symmetric. Then the update rule for Newton's method for optimization is \n",
    "\n",
    "\\begin{equation}\n",
    "\\theta_{i+1} = \\theta_i - H^{-1} \\nabla_\\theta \\ell(\\theta_i)\n",
    "\\end{equation}\n",
    "\n",
    "### Interpretation for optimization\n",
    "\n",
    "Newton's method for optimization admits a neat interpretation.\n",
    "\n",
    "(Stuff about quadratic approximation near $\\theta_i$.)\n"
   ]
  },
  {
   "cell_type": "code",
   "execution_count": null,
   "metadata": {},
   "outputs": [],
   "source": []
  }
 ],
 "metadata": {
  "hide_input": false,
  "kernelspec": {
   "display_name": "Python [conda env:NMSMExp_env]",
   "language": "python",
   "name": "conda-env-NMSMExp_env-py"
  },
  "language_info": {
   "codemirror_mode": {
    "name": "ipython",
    "version": 3
   },
   "file_extension": ".py",
   "mimetype": "text/x-python",
   "name": "python",
   "nbconvert_exporter": "python",
   "pygments_lexer": "ipython3",
   "version": "3.6.9"
  },
  "toc": {
   "base_numbering": 1,
   "nav_menu": {},
   "number_sections": true,
   "sideBar": true,
   "skip_h1_title": false,
   "title_cell": "Table of Contents",
   "title_sidebar": "Contents",
   "toc_cell": false,
   "toc_position": {},
   "toc_section_display": true,
   "toc_window_display": true
  }
 },
 "nbformat": 4,
 "nbformat_minor": 2
}
